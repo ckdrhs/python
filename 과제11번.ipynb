{
  "nbformat": 4,
  "nbformat_minor": 0,
  "metadata": {
    "colab": {
      "provenance": [],
      "authorship_tag": "ABX9TyPykO1Zbq6xdh3sraWqAaHC",
      "include_colab_link": true
    },
    "kernelspec": {
      "name": "python3",
      "display_name": "Python 3"
    },
    "language_info": {
      "name": "python"
    }
  },
  "cells": [
    {
      "cell_type": "markdown",
      "metadata": {
        "id": "view-in-github",
        "colab_type": "text"
      },
      "source": [
        "<a href=\"https://colab.research.google.com/github/ckdrhs/python/blob/main/%EA%B3%BC%EC%A0%9C11%EB%B2%88.ipynb\" target=\"_parent\"><img src=\"https://colab.research.google.com/assets/colab-badge.svg\" alt=\"Open In Colab\"/></a>"
      ]
    },
    {
      "cell_type": "code",
      "execution_count": 5,
      "metadata": {
        "colab": {
          "base_uri": "https://localhost:8080/"
        },
        "id": "NM1z3x1Hepnq",
        "outputId": "74c41404-08d4-4124-ccaf-c67bbf491fae"
      },
      "outputs": [
        {
          "output_type": "stream",
          "name": "stdout",
          "text": [
            "숫자 : 4\n",
            "숫자 : 5\n",
            "숫자 : 6\n",
            "숫자 : 7\n",
            "숫자 : 8\n",
            "리스트의 합계:  30\n"
          ]
        }
      ],
      "source": [
        "numlist = [0, 0, 0 ,0 ,0]\n",
        "\n",
        "numlist[0] = input(\"숫자 : \")\n",
        "numlist[1] = input(\"숫자 : \")\n",
        "numlist[2] = input(\"숫자 : \")\n",
        "numlist[3] = input(\"숫자 : \")\n",
        "numlist[4] = input(\"숫자 : \")\n",
        "\n",
        "sum = int(numlist[0]) + int(numlist[1]) + int(numlist[2]) + int(numlist[3]) + int(numlist[4])\n",
        "print(\"리스트의 합계: \", sum)"
      ]
    },
    {
      "cell_type": "code",
      "source": [
        "import random\n",
        "wiseSay = [\"중요한 것은 꺾이지 않는 마음이다.\",\n",
        "            \"너 자신을 알라\",\n",
        "            \"피할 수 없다면 즐겨라\",\n",
        "            \"신은 용기있는 자를 결코 버리지 않는다\",\n",
        "            \"내일은 내일의 태양이 뜬다\",\n",
        "            \"이 또한 지나가리라\",\n",
        "            \"명언이 하나 더 늘었따.\"]\n",
        "rnd = random.randint(0,len(wiseSay)-1)\n",
        "rnd_say = wiseSay[rnd]\n",
        "print(\"오늘의 명언 : \", rnd_say)"
      ],
      "metadata": {
        "colab": {
          "base_uri": "https://localhost:8080/"
        },
        "id": "BTRCcPXBsQ_D",
        "outputId": "d302f851-dc12-4f80-b44b-997c8ab40b12"
      },
      "execution_count": 19,
      "outputs": [
        {
          "output_type": "stream",
          "name": "stdout",
          "text": [
            "오늘의 명언 :  명언이 하나 더 늘었따.\n"
          ]
        }
      ]
    },
    {
      "cell_type": "code",
      "source": [
        "import datetime\n",
        "\n",
        "now = datetime.date.today()\n",
        "birthday = datetime.date(2005,1,4)\n",
        "age = now - birthday\n",
        "print(age.days/365)"
      ],
      "metadata": {
        "colab": {
          "base_uri": "https://localhost:8080/"
        },
        "id": "0ijLXzHyyLk9",
        "outputId": "1f4acc74-90d1-41bd-fee9-4391d3bb55be"
      },
      "execution_count": 27,
      "outputs": [
        {
          "output_type": "stream",
          "name": "stdout",
          "text": [
            "18.273972602739725\n"
          ]
        }
      ]
    }
  ]
}