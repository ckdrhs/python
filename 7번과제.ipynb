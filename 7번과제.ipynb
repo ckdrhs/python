{
  "nbformat": 4,
  "nbformat_minor": 0,
  "metadata": {
    "colab": {
      "provenance": [],
      "authorship_tag": "ABX9TyNSvQi++X0iVx0EW7Ril1c0",
      "include_colab_link": true
    },
    "kernelspec": {
      "name": "python3",
      "display_name": "Python 3"
    },
    "language_info": {
      "name": "python"
    }
  },
  "cells": [
    {
      "cell_type": "markdown",
      "metadata": {
        "id": "view-in-github",
        "colab_type": "text"
      },
      "source": [
        "<a href=\"https://colab.research.google.com/github/ckdrhs/python/blob/main/7%EB%B2%88%EA%B3%BC%EC%A0%9C.ipynb\" target=\"_parent\"><img src=\"https://colab.research.google.com/assets/colab-badge.svg\" alt=\"Open In Colab\"/></a>"
      ]
    },
    {
      "cell_type": "code",
      "execution_count": 3,
      "metadata": {
        "colab": {
          "base_uri": "https://localhost:8080/"
        },
        "id": "Md4qiNYpXc_p",
        "outputId": "bc96d941-b220-4d08-ddbf-4c6f59794dce"
      },
      "outputs": [
        {
          "output_type": "stream",
          "name": "stdout",
          "text": [
            "100보다 큽니다. \n",
            "프로그램\n",
            "끝\n"
          ]
        }
      ],
      "source": [
        "num = 200\n",
        "if num > 100 :\n",
        "  print(\"100보다 큽니다. \")\n",
        "  print(\"프로그램\")\n",
        "  print(\"끝\")"
      ]
    },
    {
      "cell_type": "code",
      "source": [
        "num = int(input(\"정수를 입력 : \"))\n",
        "if num%2 == 0 :\n",
        "  print(\"짝수\")\n",
        "  print(\"입니다. \")\n",
        "else :\n",
        "  print(\"홀수\")\n",
        "  print(\"입니다\")"
      ],
      "metadata": {
        "colab": {
          "base_uri": "https://localhost:8080/"
        },
        "id": "ToAPVBx-YPVM",
        "outputId": "707747d5-2ab4-466e-e9c0-7f6abfab8c0c"
      },
      "execution_count": 6,
      "outputs": [
        {
          "output_type": "stream",
          "name": "stdout",
          "text": [
            "정수를 입력 : 4796\n",
            "짝수\n",
            "입니다. \n"
          ]
        }
      ]
    },
    {
      "cell_type": "code",
      "source": [
        "num = int(input(\"숫자를 입력 : \"))\n",
        "if num >= 100 :\n",
        "   if num <= 1000 :\n",
        "      print(\"100에서 1000사이다\")\n",
        "   else :\n",
        "      print(\"1000보다 크다\")\n",
        "else :\n",
        " print(\"100보다 작다\")"
      ],
      "metadata": {
        "colab": {
          "base_uri": "https://localhost:8080/"
        },
        "id": "YugR72u5Y5VD",
        "outputId": "e64be784-5891-4a03-cb4e-97b9949b607a"
      },
      "execution_count": 33,
      "outputs": [
        {
          "output_type": "stream",
          "name": "stdout",
          "text": [
            "숫자를 입력 : 255\n",
            "100에서 1000사이다\n"
          ]
        }
      ]
    },
    {
      "cell_type": "code",
      "source": [
        "score = int(input(\"학점을 입력 : \"))\n",
        "\n",
        "\n",
        "if score >= 90 :\n",
        "  print(\"A\", end='')\n",
        "else :\n",
        "  if score >= 80 :\n",
        "    print(\"B\", end='')\n",
        "  else :\n",
        "    if score >= 70 :\n",
        "      print(\"C\", end='')\n",
        "    else :\n",
        "      if score >= 60 :\n",
        "        print(\"D\", end='')\n",
        "      else :\n",
        "        print(\"F\", end='')\n",
        "print(\"학점입니다\")"
      ],
      "metadata": {
        "colab": {
          "base_uri": "https://localhost:8080/"
        },
        "id": "0MjzXy3Wdc6L",
        "outputId": "49da3d4e-3f7c-44f9-cce5-ea80c6223187"
      },
      "execution_count": 52,
      "outputs": [
        {
          "output_type": "stream",
          "name": "stdout",
          "text": [
            "학점을 입력 : 49\n",
            "E학점입니다\n"
          ]
        }
      ]
    }
  ]
}