{
  "nbformat": 4,
  "nbformat_minor": 0,
  "metadata": {
    "colab": {
      "provenance": [],
      "authorship_tag": "ABX9TyOPjob/ZLTycfxt9RAnBsnU",
      "include_colab_link": true
    },
    "kernelspec": {
      "name": "python3",
      "display_name": "Python 3"
    },
    "language_info": {
      "name": "python"
    }
  },
  "cells": [
    {
      "cell_type": "markdown",
      "metadata": {
        "id": "view-in-github",
        "colab_type": "text"
      },
      "source": [
        "<a href=\"https://colab.research.google.com/github/ckdrhs/python/blob/main/%EA%B3%BC%EC%A0%9C1%EB%B2%88.ipynb\" target=\"_parent\"><img src=\"https://colab.research.google.com/assets/colab-badge.svg\" alt=\"Open In Colab\"/></a>"
      ]
    },
    {
      "cell_type": "code",
      "execution_count": 2,
      "metadata": {
        "colab": {
          "base_uri": "https://localhost:8080/"
        },
        "id": "FnELh9ikVa6i",
        "outputId": "b947a1fe-de79-4ff6-f06b-c7dad69ab2c6"
      },
      "outputs": [
        {
          "output_type": "stream",
          "name": "stdout",
          "text": [
            "## 택배를 보내기 위한 정보를 입력하세요. ##\n",
            "받는 사람==)박창곤\n",
            "주소==)경기도 안산시\n",
            "무게(g)==)571\n",
            "**받는 사람 : 박창곤\n",
            "**주소 : 경기도 안산시\n",
            "**배송비 : 2855\n"
          ]
        }
      ],
      "source": [
        "print(\"## 택배를 보내기 위한 정보를 입력하세요. ##\")\n",
        "recieve_name = input(\"받는 사람==)\")\n",
        "address = input(\"주소==)\")\n",
        "weight = int(input(\"무게(g)==)\"))\n",
        "value = weight * 5\n",
        "print(\"**받는 사람 :\", recieve_name)\n",
        "print(\"**주소 :\", address)\n",
        "print(\"**배송비 :\", value)"
      ]
    }
  ]
}