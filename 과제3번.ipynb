{
  "nbformat": 4,
  "nbformat_minor": 0,
  "metadata": {
    "colab": {
      "provenance": [],
      "authorship_tag": "ABX9TyP9s2PsShWJiAtCGcI9EW51",
      "include_colab_link": true
    },
    "kernelspec": {
      "name": "python3",
      "display_name": "Python 3"
    },
    "language_info": {
      "name": "python"
    }
  },
  "cells": [
    {
      "cell_type": "markdown",
      "metadata": {
        "id": "view-in-github",
        "colab_type": "text"
      },
      "source": [
        "<a href=\"https://colab.research.google.com/github/ckdrhs/python/blob/main/%EA%B3%BC%EC%A0%9C3%EB%B2%88.ipynb\" target=\"_parent\"><img src=\"https://colab.research.google.com/assets/colab-badge.svg\" alt=\"Open In Colab\"/></a>"
      ]
    },
    {
      "cell_type": "code",
      "execution_count": 26,
      "metadata": {
        "colab": {
          "base_uri": "https://localhost:8080/"
        },
        "id": "Zw_Xq0dtGhGw",
        "outputId": "78724d78-4b96-45a9-e3e2-90087c7f7f9a"
      },
      "outputs": [
        {
          "output_type": "stream",
          "name": "stdout",
          "text": [
            "파운드(lb)를 입력하세요 :10\n",
            "10 파운드(lb)는 4.53592 킬로그램(kb)입니다\n",
            "킬로그램(kg)을 입력하세요 :10\n",
            "10 킬로그램의(kg)은 22.04623 파운드(lb)입니다.\n"
          ]
        }
      ],
      "source": [
        "pound = int(input(\"파운드(lb)를 입력하세요 :\"))\n",
        "kg = pound * 0.453592\n",
        "print(pound, \"파운드(lb)는\", round(kg, 5), \"킬로그램(kb)입니다\")\n",
        "\n",
        "kg = int(input(\"킬로그램(kg)을 입력하세요 :\"))\n",
        "pound = kg * 2.204623\n",
        "print(kg, \"킬로그램의(kg)은\", round(pound, 5), \"파운드(lb)입니다.\")"
      ]
    }
  ]
}