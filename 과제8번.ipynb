{
  "nbformat": 4,
  "nbformat_minor": 0,
  "metadata": {
    "colab": {
      "provenance": [],
      "authorship_tag": "ABX9TyP/CfSFnZFwllUubMHdBjA4",
      "include_colab_link": true
    },
    "kernelspec": {
      "name": "python3",
      "display_name": "Python 3"
    },
    "language_info": {
      "name": "python"
    }
  },
  "cells": [
    {
      "cell_type": "markdown",
      "metadata": {
        "id": "view-in-github",
        "colab_type": "text"
      },
      "source": [
        "<a href=\"https://colab.research.google.com/github/ckdrhs/python/blob/main/%EA%B3%BC%EC%A0%9C8%EB%B2%88.ipynb\" target=\"_parent\"><img src=\"https://colab.research.google.com/assets/colab-badge.svg\" alt=\"Open In Colab\"/></a>"
      ]
    },
    {
      "cell_type": "code",
      "execution_count": 26,
      "metadata": {
        "colab": {
          "base_uri": "https://localhost:8080/"
        },
        "id": "QKHrUyt0XUd4",
        "outputId": "097b8560-da6a-4dba-b72b-614a98938883"
      },
      "outputs": [
        {
          "output_type": "stream",
          "name": "stdout",
          "text": [
            "26\n"
          ]
        }
      ],
      "source": [
        "import random\n",
        "\n",
        "rndNumber = random.randint(1,45)\n",
        "\n",
        "print(rndNumber)"
      ]
    },
    {
      "cell_type": "code",
      "source": [
        "import random\n",
        "lottoNumber = [0,0,0,0,0,0,]\n",
        "\n",
        "for i in range(6):\n",
        "  lottoNumber[i]=random.randint(1,45)\n",
        "for i in range(6):\n",
        "  print(lottoNumber[i],end=\" \")"
      ],
      "metadata": {
        "colab": {
          "base_uri": "https://localhost:8080/"
        },
        "id": "e_jhFgjmY3s0",
        "outputId": "0ffcf5fb-97b2-447f-ed3d-eaba8de461aa"
      },
      "execution_count": 15,
      "outputs": [
        {
          "output_type": "stream",
          "name": "stdout",
          "text": [
            "16 40 29 23 34 1 "
          ]
        }
      ]
    },
    {
      "cell_type": "code",
      "source": [
        "import random\n",
        "\n",
        "foods = ['떡볶이', '순대', '소고기', '쿠키', '라면']\n",
        "\n",
        "result = random.choice(foods)\n",
        "\n",
        "print(result)"
      ],
      "metadata": {
        "colab": {
          "base_uri": "https://localhost:8080/"
        },
        "id": "dhWCLdtWb7AL",
        "outputId": "e31ea45d-9a31-4274-a145-897ed8544642"
      },
      "execution_count": 27,
      "outputs": [
        {
          "output_type": "stream",
          "name": "stdout",
          "text": [
            "떡볶이\n"
          ]
        }
      ]
    },
    {
      "cell_type": "code",
      "source": [
        "import random\n",
        "computer = \" \"\n",
        "player = input(\"나의 가위/바위/보 :\")\n",
        "computer = random.choice(['가위', '바위', '보'])\n",
        "if player == computer:\n",
        "  print(\"비겼다\")\n",
        "elif (player == '가위' and computer == '보'):\n",
        "  print(\"이겼다\")\n",
        "elif (player == '바위' and computer == '가위'):\n",
        "  print(\"이겼다\")\n",
        "elif (player == '보' and computer == '바위'):\n",
        "  print(\"이겼다\")\n",
        "else:\n",
        "  print(\"졌다\")\n",
        "print(player, computer)"
      ],
      "metadata": {
        "colab": {
          "base_uri": "https://localhost:8080/"
        },
        "id": "IwtTs4YFc8Rc",
        "outputId": "232c652f-a831-4599-e75d-253bc0a36481"
      },
      "execution_count": 43,
      "outputs": [
        {
          "output_type": "stream",
          "name": "stdout",
          "text": [
            "나의 가위/바위/보 :바위\n",
            "이겼다\n",
            "바위 가위\n"
          ]
        }
      ]
    }
  ]
}