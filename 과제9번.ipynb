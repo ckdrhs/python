{
  "nbformat": 4,
  "nbformat_minor": 0,
  "metadata": {
    "colab": {
      "provenance": [],
      "authorship_tag": "ABX9TyM9L5aaIOoVFOZDFcKkxoy3",
      "include_colab_link": true
    },
    "kernelspec": {
      "name": "python3",
      "display_name": "Python 3"
    },
    "language_info": {
      "name": "python"
    }
  },
  "cells": [
    {
      "cell_type": "markdown",
      "metadata": {
        "id": "view-in-github",
        "colab_type": "text"
      },
      "source": [
        "<a href=\"https://colab.research.google.com/github/ckdrhs/python/blob/main/%EA%B3%BC%EC%A0%9C9%EB%B2%88.ipynb\" target=\"_parent\"><img src=\"https://colab.research.google.com/assets/colab-badge.svg\" alt=\"Open In Colab\"/></a>"
      ]
    },
    {
      "cell_type": "code",
      "execution_count": null,
      "metadata": {
        "colab": {
          "base_uri": "https://localhost:8080/"
        },
        "id": "EJzQ27j_c4Dn",
        "outputId": "dea66c6e-d7ab-4621-c511-0bd510345255"
      },
      "outputs": [
        {
          "output_type": "stream",
          "name": "stdout",
          "text": [
            "0 컴퓨터과 3학년 1반\n",
            "1 컴퓨터과 3학년 1반\n",
            "2 컴퓨터과 3학년 1반\n"
          ]
        }
      ],
      "source": [
        "for i in range(3):\n",
        "  print(i, \"컴퓨터과 3학년 1반\")"
      ]
    },
    {
      "cell_type": "code",
      "source": [
        "for i in range(2,6,1):\n",
        "  print(i,end=\"\")"
      ],
      "metadata": {
        "colab": {
          "base_uri": "https://localhost:8080/"
        },
        "id": "c0oAkNYme61U",
        "outputId": "0f5d5dab-ebf2-4be2-ab27-a3b6424252ba"
      },
      "execution_count": null,
      "outputs": [
        {
          "output_type": "stream",
          "name": "stdout",
          "text": [
            "2345"
          ]
        }
      ]
    },
    {
      "cell_type": "code",
      "source": [
        "for i in range(3):\n",
        "  for k in range(2):\n",
        "    print(\"난생처음은 쉽습니다.^^(i값:\", i, \"k값\", k,\") \")"
      ],
      "metadata": {
        "colab": {
          "base_uri": "https://localhost:8080/"
        },
        "id": "S5U2YCAlfncq",
        "outputId": "029e7901-1e8b-4740-a8a3-38e714c6f15e"
      },
      "execution_count": null,
      "outputs": [
        {
          "output_type": "stream",
          "name": "stdout",
          "text": [
            "난생처음은 쉽습니다.^^(i값: 0 k값 0 ) \n",
            "난생처음은 쉽습니다.^^(i값: 0 k값 1 ) \n",
            "난생처음은 쉽습니다.^^(i값: 1 k값 0 ) \n",
            "난생처음은 쉽습니다.^^(i값: 1 k값 1 ) \n",
            "난생처음은 쉽습니다.^^(i값: 2 k값 0 ) \n",
            "난생처음은 쉽습니다.^^(i값: 2 k값 1 ) \n"
          ]
        }
      ]
    },
    {
      "cell_type": "code",
      "source": [
        "i = 0\n",
        "j = 0\n",
        "for i in range(1, 10):\n",
        " for j in range(2, 10):\n",
        "   print(j, \"X\", i, \"=\", i*j, end=\" \")\n",
        " print(\"\\n\")"
      ],
      "metadata": {
        "colab": {
          "base_uri": "https://localhost:8080/"
        },
        "id": "gu2o7MylrP9s",
        "outputId": "cf3abb9a-ccbc-44f6-d803-835101453586"
      },
      "execution_count": null,
      "outputs": [
        {
          "output_type": "stream",
          "name": "stdout",
          "text": [
            "2 X 1 = 2 3 X 1 = 3 4 X 1 = 4 5 X 1 = 5 6 X 1 = 6 7 X 1 = 7 8 X 1 = 8 9 X 1 = 9 \n",
            "\n",
            "2 X 2 = 4 3 X 2 = 6 4 X 2 = 8 5 X 2 = 10 6 X 2 = 12 7 X 2 = 14 8 X 2 = 16 9 X 2 = 18 \n",
            "\n",
            "2 X 3 = 6 3 X 3 = 9 4 X 3 = 12 5 X 3 = 15 6 X 3 = 18 7 X 3 = 21 8 X 3 = 24 9 X 3 = 27 \n",
            "\n",
            "2 X 4 = 8 3 X 4 = 12 4 X 4 = 16 5 X 4 = 20 6 X 4 = 24 7 X 4 = 28 8 X 4 = 32 9 X 4 = 36 \n",
            "\n",
            "2 X 5 = 10 3 X 5 = 15 4 X 5 = 20 5 X 5 = 25 6 X 5 = 30 7 X 5 = 35 8 X 5 = 40 9 X 5 = 45 \n",
            "\n",
            "2 X 6 = 12 3 X 6 = 18 4 X 6 = 24 5 X 6 = 30 6 X 6 = 36 7 X 6 = 42 8 X 6 = 48 9 X 6 = 54 \n",
            "\n",
            "2 X 7 = 14 3 X 7 = 21 4 X 7 = 28 5 X 7 = 35 6 X 7 = 42 7 X 7 = 49 8 X 7 = 56 9 X 7 = 63 \n",
            "\n",
            "2 X 8 = 16 3 X 8 = 24 4 X 8 = 32 5 X 8 = 40 6 X 8 = 48 7 X 8 = 56 8 X 8 = 64 9 X 8 = 72 \n",
            "\n",
            "2 X 9 = 18 3 X 9 = 27 4 X 9 = 36 5 X 9 = 45 6 X 9 = 54 7 X 9 = 63 8 X 9 = 72 9 X 9 = 81 \n",
            "\n"
          ]
        }
      ]
    },
    {
      "cell_type": "code",
      "source": [
        "i = 0\n",
        "while(i < 3):\n",
        "  print(\"컴퓨터과 3학년 1반\")\n",
        "  i = i + 1"
      ],
      "metadata": {
        "colab": {
          "base_uri": "https://localhost:8080/"
        },
        "id": "cOwDMWDwtuL1",
        "outputId": "30923015-1085-4354-9842-cf9db39c678b"
      },
      "execution_count": 20,
      "outputs": [
        {
          "output_type": "stream",
          "name": "stdout",
          "text": [
            "컴퓨터과 3학년 1반\n",
            "컴퓨터과 3학년 1반\n",
            "컴퓨터과 3학년 1반\n"
          ]
        }
      ]
    },
    {
      "cell_type": "code",
      "source": [
        "i = 0\n",
        "while True :\n",
        "  print(\"ㅎ\")\n",
        "  i = i + 1\n",
        "  if i == 10:\n",
        "    break\n",
        "\n"
      ],
      "metadata": {
        "colab": {
          "base_uri": "https://localhost:8080/"
        },
        "id": "zplZXTjtva3T",
        "outputId": "7b575a14-07d1-4fbe-a39b-4b4312e2b8c0"
      },
      "execution_count": 24,
      "outputs": [
        {
          "output_type": "stream",
          "name": "stdout",
          "text": [
            "ㅎ\n",
            "ㅎ\n",
            "ㅎ\n",
            "ㅎ\n",
            "ㅎ\n",
            "ㅎ\n",
            "ㅎ\n",
            "ㅎ\n",
            "ㅎ\n",
            "ㅎ\n"
          ]
        }
      ]
    },
    {
      "cell_type": "code",
      "source": [
        "def menu() :\n",
        " print(\"##################\")\n",
        " print(\"# 1. 덧셈        #\")\n",
        " print(\"# 2. 뻴셈        #\")\n",
        " print(\"# 3. 나눗셈      #\")\n",
        " print(\"# 4. 곱셈        #\")\n",
        " print(\"# 5. 종료        #\")\n",
        "\n",
        "def add() :\n",
        "  num1 = float(input(\"첫번째 숫자를 입력 : \"))\n",
        "  num2 = float(input(\"두번째 숫자를 입력 : \"))\n",
        "  sum = num1 + num2\n",
        "  return sum\n",
        "\n",
        "def ppa() :\n",
        "  num1 = float(input(\"첫번째 숫자를 입력 : \"))\n",
        "  num2 = float(input(\"두번째 숫자를 입력 : \"))\n",
        "  sub = num1 - num2\n",
        "  return sub\n",
        "\n",
        "def nan() :\n",
        "  num1 = float(input(\"첫번째 숫자를 입력 : \"))\n",
        "  num2 = float(input(\"두번째 숫자를 입력 : \"))\n",
        "  div = num1 / num2\n",
        "  return div\n",
        "\n",
        "def gob() :\n",
        "  num1 = float(input(\"첫번째 숫자를 입력 : \"))\n",
        "  num2 = float(input(\"두번째 숫자를 입력 : \"))\n",
        "  mul = num1 * num2\n",
        "  return mul\n",
        "\n",
        "while True:\n",
        "  menu()\n",
        "  select = int(input(\"매뉴를 선택 : \"))\n",
        "  if select == 5:\n",
        "    break\n",
        "  elif select == 1:\n",
        "    sum = add()\n",
        "    print(\"두수의 덧셈결과 : \", sum)\n",
        "  elif select == 2:\n",
        "    sub = ppa()\n",
        "    print(\"두수의 뻴셈결과 : \", sub)\n",
        "  elif select == 3:\n",
        "    div = nan()\n",
        "    print(\"두수의 나눗셈결과 : \", div)\n",
        "  elif select == 4:\n",
        "    mul = gob()\n",
        "    print(\"두수의 곱셈결과 : \", mul)\n"
      ],
      "metadata": {
        "colab": {
          "base_uri": "https://localhost:8080/"
        },
        "id": "3gf0hf1wvlts",
        "outputId": "16947310-00cf-4b01-add3-b24cf51e4a0d"
      },
      "execution_count": 36,
      "outputs": [
        {
          "name": "stdout",
          "output_type": "stream",
          "text": [
            "##################\n",
            "# 1. 덧셈        #\n",
            "# 2. 뻴셈        #\n",
            "# 3. 나눗셈      #\n",
            "# 4. 곱셈        #\n",
            "# 5. 종료        #\n",
            "매뉴를 선택 : 1\n",
            "첫번째 숫자를 입력 : 2\n",
            "두번째 숫자를 입력 : 3\n",
            "두수의 덧셈결과 :  5.0\n",
            "##################\n",
            "# 1. 덧셈        #\n",
            "# 2. 뻴셈        #\n",
            "# 3. 나눗셈      #\n",
            "# 4. 곱셈        #\n",
            "# 5. 종료        #\n",
            "매뉴를 선택 : 2\n",
            "첫번째 숫자를 입력 : 5\n",
            "두번째 숫자를 입력 : 2\n",
            "두수의 뻴셈결과 :  3.0\n",
            "##################\n",
            "# 1. 덧셈        #\n",
            "# 2. 뻴셈        #\n",
            "# 3. 나눗셈      #\n",
            "# 4. 곱셈        #\n",
            "# 5. 종료        #\n",
            "매뉴를 선택 : 3\n",
            "첫번째 숫자를 입력 : 7\n",
            "두번째 숫자를 입력 : 3\n",
            "두수의 나눗셈결과 :  2.3333333333333335\n",
            "##################\n",
            "# 1. 덧셈        #\n",
            "# 2. 뻴셈        #\n",
            "# 3. 나눗셈      #\n",
            "# 4. 곱셈        #\n",
            "# 5. 종료        #\n",
            "매뉴를 선택 : 4\n",
            "첫번째 숫자를 입력 : 4\n",
            "두번째 숫자를 입력 : 8\n",
            "두수의 곱셈결과 :  32.0\n",
            "##################\n",
            "# 1. 덧셈        #\n",
            "# 2. 뻴셈        #\n",
            "# 3. 나눗셈      #\n",
            "# 4. 곱셈        #\n",
            "# 5. 종료        #\n",
            "매뉴를 선택 : 5\n"
          ]
        }
      ]
    }
  ]
}