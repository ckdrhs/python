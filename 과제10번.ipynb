{
  "nbformat": 4,
  "nbformat_minor": 0,
  "metadata": {
    "colab": {
      "provenance": [],
      "authorship_tag": "ABX9TyOS6SxBdVEilP8hXptLMeys",
      "include_colab_link": true
    },
    "kernelspec": {
      "name": "python3",
      "display_name": "Python 3"
    },
    "language_info": {
      "name": "python"
    }
  },
  "cells": [
    {
      "cell_type": "markdown",
      "metadata": {
        "id": "view-in-github",
        "colab_type": "text"
      },
      "source": [
        "<a href=\"https://colab.research.google.com/github/ckdrhs/python/blob/main/%EA%B3%BC%EC%A0%9C10%EB%B2%88.ipynb\" target=\"_parent\"><img src=\"https://colab.research.google.com/assets/colab-badge.svg\" alt=\"Open In Colab\"/></a>"
      ]
    },
    {
      "cell_type": "code",
      "execution_count": 18,
      "metadata": {
        "colab": {
          "base_uri": "https://localhost:8080/"
        },
        "id": "uJ88HrvIQLQ6",
        "outputId": "02d287f4-01e7-4cb5-9991-984f7f74e3f0"
      },
      "outputs": [
        {
          "output_type": "stream",
          "name": "stdout",
          "text": [
            "주사위 3개가 모두  3 이다\n",
            "같은 숫자가 나오기 까지  1 번 던졌습니다.\n"
          ]
        }
      ],
      "source": [
        "import random\n",
        "count = 0\n",
        "while True :\n",
        " dice1 = random.randint(1,6)\n",
        " dice2 = random.randint(1,6)\n",
        " dice3 = random.randint(1,6)\n",
        " count = count + 1\n",
        " if dice1 == dice2 == dice3 :\n",
        "   print(\"주사위 3개가 모두 \", dice1, \"이다\")\n",
        "   print(\"같은 숫자가 나오기 까지 \", count, \"번 던졌습니다.\")\n",
        "   break"
      ]
    },
    {
      "cell_type": "code",
      "source": [
        "import random\n",
        "\n",
        "for i in range(1,11):\n",
        "  computer = random.randint(1,5)\n",
        "  print(\"게임\", i, \"회\", end='')\n",
        "  player = int(input(\"컴퓨터가 생각한 숫자는?\"))\n",
        "\n",
        "  if computer == player:\n",
        "    print(\"정답입니다. 컴퓨터가 생각한 숫자는\", computer, \"입니다\")\n",
        "    break\n",
        "  else:\n",
        "    print(\"오답입니다. 컴퓨터가 생각한 숫자는\", computer, \"입니다\")\n",
        "    continue\n",
        "print(\"게임이 끝났습니다.\")"
      ],
      "metadata": {
        "colab": {
          "base_uri": "https://localhost:8080/"
        },
        "id": "IbZDa8sdR9Ni",
        "outputId": "7a92b3a6-c149-4f09-8b9b-0b504f0dbf5a"
      },
      "execution_count": 23,
      "outputs": [
        {
          "output_type": "stream",
          "name": "stdout",
          "text": [
            "게임 1 회컴퓨터가 예상한 숫자는?1\n",
            "오답입니다. 컴퓨터가 생각한 숫자는 3 입니다\n",
            "게임 2 회컴퓨터가 예상한 숫자는?2\n",
            "오답입니다. 컴퓨터가 생각한 숫자는 5 입니다\n",
            "게임 3 회컴퓨터가 예상한 숫자는?3\n",
            "오답입니다. 컴퓨터가 생각한 숫자는 2 입니다\n",
            "게임 4 회컴퓨터가 예상한 숫자는?4\n",
            "정답입니다. 컴퓨터가 생각한 숫자는 4 입니다\n",
            "게임이 끝났습니다.1\n"
          ]
        }
      ]
    }
  ]
}