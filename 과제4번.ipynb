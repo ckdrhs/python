{
  "nbformat": 4,
  "nbformat_minor": 0,
  "metadata": {
    "colab": {
      "provenance": [],
      "authorship_tag": "ABX9TyOo9BnIZyuiymMEcKDARXwh",
      "include_colab_link": true
    },
    "kernelspec": {
      "name": "python3",
      "display_name": "Python 3"
    },
    "language_info": {
      "name": "python"
    }
  },
  "cells": [
    {
      "cell_type": "markdown",
      "metadata": {
        "id": "view-in-github",
        "colab_type": "text"
      },
      "source": [
        "<a href=\"https://colab.research.google.com/github/ckdrhs/python/blob/main/%EA%B3%BC%EC%A0%9C4%EB%B2%88.ipynb\" target=\"_parent\"><img src=\"https://colab.research.google.com/assets/colab-badge.svg\" alt=\"Open In Colab\"/></a>"
      ]
    },
    {
      "cell_type": "code",
      "execution_count": 37,
      "metadata": {
        "colab": {
          "base_uri": "https://localhost:8080/"
        },
        "id": "Zw_Xq0dtGhGw",
        "outputId": "ad4698f8-f045-41de-b973-1897c9ab0a4a"
      },
      "outputs": [
        {
          "output_type": "stream",
          "name": "stdout",
          "text": [
            "오늘 총 매출액은 11600 원입니다\n"
          ]
        }
      ],
      "source": [
        "sales = 0\n",
        "\n",
        "sales -= 900 * 10 \n",
        "sales += 1800 * 2 \n",
        "sales -= 3500 * 5 \n",
        "sales += 4000 * 4 \n",
        "sales += 1500 * 1\n",
        "sales += 2000 * 4\n",
        "sales += 1800 * 5\n",
        "print(\"오늘 총 매출액은\", sales, \"원입니다\") "
      ]
    }
  ]
}