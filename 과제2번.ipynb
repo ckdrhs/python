{
  "nbformat": 4,
  "nbformat_minor": 0,
  "metadata": {
    "colab": {
      "provenance": [],
      "authorship_tag": "ABX9TyMxxw9Vmf3Iwlbnyhv8eieP",
      "include_colab_link": true
    },
    "kernelspec": {
      "name": "python3",
      "display_name": "Python 3"
    },
    "language_info": {
      "name": "python"
    }
  },
  "cells": [
    {
      "cell_type": "markdown",
      "metadata": {
        "id": "view-in-github",
        "colab_type": "text"
      },
      "source": [
        "<a href=\"https://colab.research.google.com/github/ckdrhs/python/blob/main/%EA%B3%BC%EC%A0%9C2%EB%B2%88.ipynb\" target=\"_parent\"><img src=\"https://colab.research.google.com/assets/colab-badge.svg\" alt=\"Open In Colab\"/></a>"
      ]
    },
    {
      "cell_type": "code",
      "execution_count": 10,
      "metadata": {
        "colab": {
          "base_uri": "https://localhost:8080/"
        },
        "id": "Zw_Xq0dtGhGw",
        "outputId": "0142a319-3a9d-4dba-e389-56a3946705d6"
      },
      "outputs": [
        {
          "output_type": "stream",
          "name": "stdout",
          "text": [
            "숫자1 ==> 100\n",
            "숫자2 ==> 10\n",
            "100 + 10 = 110\n",
            "100 - 10 = 90\n",
            "100 * 10 = 1000\n",
            "100 / 10 = 10.0\n",
            "100 % 10 = 0\n",
            "100 ** 10 = 100000000000000000000\n"
          ]
        }
      ],
      "source": [
        "num1=int(input(\"숫자1 ==> \"))\n",
        "num2=int(input(\"숫자2 ==> \"))\n",
        "a= num1+num2\n",
        "b= num1-num2\n",
        "c= num1*num2\n",
        "d= num1/num2\n",
        "e= num1%num2\n",
        "f= num1**num2\n",
        "\n",
        "print(num1, \"+\", num2, \"=\", a)\n",
        "print(num1, \"-\", num2, \"=\", b)\n",
        "print(num1, \"*\", num2, \"=\", c)\n",
        "print(num1, \"/\", num2, \"=\", d)\n",
        "print(num1, \"%\", num2, \"=\", e)\n",
        "print(num1, \"**\", num2, \"=\", f)\n",
        "\n",
        "\n",
        "\n",
        "\n",
        "\n",
        "\n",
        "\n",
        "\n",
        "\n",
        "\n",
        "\n",
        "\n",
        "\n",
        "\n",
        "\n",
        "\n"
      ]
    }
  ]
}